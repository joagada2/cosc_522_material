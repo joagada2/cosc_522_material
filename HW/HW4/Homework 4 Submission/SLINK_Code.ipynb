{
 "cells": [
  {
   "cell_type": "code",
   "execution_count": null,
   "id": "c2fc4abf-a897-4686-bd10-51eeae5bee94",
   "metadata": {},
   "outputs": [],
   "source": [
    "# Step 1: Remove constant (zero variance) features\n",
    "X = nX.loc[:, X.var() != 0]\n",
    "\n",
    "# Step 2: Calculate the similarity (distance) matrix between features\n",
    "feature_distances = np.corrcoef(X.T)\n",
    "distance_matrix = 1 - feature_distances\n",
    "distance_matrix = np.nan_to_num(distance_matrix, nan=1.0)\n",
    "\n",
    "# Step 3: Apply SLINK (single linkage clustering) using scipy\n",
    "flattened_distance_matrix = distance_matrix[np.triu_indices_from(distance_matrix, k=1)]\n",
    "Z = linkage(flattened_distance_matrix, method='single')\n",
    "\n",
    "# Step 4: Generate 238 clusters from the linkage matrix\n",
    "num_clusters = 238\n",
    "clusters = fcluster(Z, num_clusters, criterion='maxclust')\n",
    "\n",
    "# Step 5: Aggregate features within each cluster efficiently\n",
    "clustered_features = {}  # Dictionary to store each cluster's aggregated feature\n",
    "for cluster_num in range(1, num_clusters + 1):\n",
    "    feature_indices = np.where(clusters == cluster_num)[0]\n",
    "    clustered_features[f'cluster_{cluster_num}'] = X.iloc[:, feature_indices].mean(axis=1)\n",
    "\n",
    "# Convert dictionary to DataFrame all at once\n",
    "X_reduced = pd.DataFrame(clustered_features)\n",
    "\n",
    "# Step 6: Optional - Plot dendrogram to visualize the clustering\n",
    "plt.figure(figsize=(12, 8))\n",
    "dendrogram(Z, truncate_mode='lastp', p=num_clusters)\n",
    "plt.title('Dendrogram of Feature Clustering using SLINK')\n",
    "plt.xlabel('Cluster')\n",
    "plt.ylabel('Distance')\n",
    "plt.show()\n",
    "\n",
    "# X_reduced now has 238 aggregated features\n",
    "print(\"Reduced DataFrame with\", X_reduced.shape[1], \"features\")"
   ]
  }
 ],
 "metadata": {
  "kernelspec": {
   "display_name": "Python 3 (ipykernel)",
   "language": "python",
   "name": "python3"
  },
  "language_info": {
   "codemirror_mode": {
    "name": "ipython",
    "version": 3
   },
   "file_extension": ".py",
   "mimetype": "text/x-python",
   "name": "python",
   "nbconvert_exporter": "python",
   "pygments_lexer": "ipython3",
   "version": "3.12.4"
  }
 },
 "nbformat": 4,
 "nbformat_minor": 5
}
