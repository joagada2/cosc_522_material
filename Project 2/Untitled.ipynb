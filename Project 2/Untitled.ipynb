{
 "cells": [
  {
   "cell_type": "code",
   "execution_count": null,
   "id": "3d074da4-ffe4-4c3e-aa28-14ba88672127",
   "metadata": {},
   "outputs": [],
   "source": [
    "# Step 1: Install PyTorch (if needed)\n",
    "# !pip install torch torchvision\n",
    "\n",
    "# Step 2: Import required libraries\n",
    "import torch\n",
    "from torchvision import datasets, transforms\n",
    "from torch.utils.data import DataLoader\n",
    "\n",
    "# Step 3: Define transformations for data preprocessing\n",
    "# Here we convert the images to tensors and normalize them\n",
    "transform = transforms.Compose([\n",
    "    transforms.ToTensor(),  # Convert images to PyTorch tensors\n",
    "    transforms.Normalize((0.1307,), (0.3081,))  # Normalize with mean and std dev (standard for MNIST)\n",
    "])\n",
    "\n",
    "# Step 4: Download and load the MNIST dataset\n",
    "# The dataset will be downloaded in the current directory\n",
    "train_dataset = datasets.MNIST(root='./data', train=True, transform=transform, download=True)\n",
    "test_dataset = datasets.MNIST(root='./data', train=False, transform=transform, download=True)\n",
    "\n",
    "# Step 5: Create DataLoader for batching and shuffling\n",
    "train_loader = DataLoader(dataset=train_dataset, batch_size=64, shuffle=True)\n",
    "test_loader = DataLoader(dataset=test_dataset, batch_size=64, shuffle=False)\n",
    "\n",
    "# Step 6 (Optional): Visualize a few samples from the training set\n",
    "import matplotlib.pyplot as plt\n",
    "\n",
    "def show_image(image, label):\n",
    "    image = image.squeeze()  # Remove the channel dimension\n",
    "    plt.imshow(image, cmap='gray')\n",
    "    plt.title(f'Label: {label}')\n",
    "    plt.show()\n",
    "\n",
    "# Get a batch of training data\n",
    "images, labels = next(iter(train_loader))\n",
    "\n",
    "# Visualize the first image in the batch\n",
    "show_image(images[0], labels[0])\n",
    "\n",
    "# Step 7: Iterate through DataLoader (example of how to access data during training)\n",
    "for batch_idx, (images, labels) in enumerate(train_loader):\n",
    "    print(f\"Batch {batch_idx + 1}:\")\n",
    "    print(f\"Images shape: {images.shape}\")  # Shape will be [64, 1, 28, 28] (batch_size, channels, height, width)\n",
    "    print(f\"Labels: {labels}\\n\")\n",
    "    if batch_idx == 1:  # Break after a couple of batches for demonstration\n",
    "        break\n"
   ]
  },
  {
   "cell_type": "code",
   "execution_count": 1,
   "id": "c2020bd7-6147-41d5-a977-126c836ca2cf",
   "metadata": {},
   "outputs": [
    {
     "ename": "NameError",
     "evalue": "name 'show_image' is not defined",
     "output_type": "error",
     "traceback": [
      "\u001b[1;31m---------------------------------------------------------------------------\u001b[0m",
      "\u001b[1;31mNameError\u001b[0m                                 Traceback (most recent call last)",
      "Cell \u001b[1;32mIn[1], line 1\u001b[0m\n\u001b[1;32m----> 1\u001b[0m show_image(images[\u001b[38;5;241m0\u001b[39m], labels[\u001b[38;5;241m0\u001b[39m])\n",
      "\u001b[1;31mNameError\u001b[0m: name 'show_image' is not defined"
     ]
    }
   ],
   "source": [
    "show_image(images[0], labels[0])"
   ]
  },
  {
   "cell_type": "code",
   "execution_count": null,
   "id": "a077cece-8760-4083-9028-8d78c5ba165e",
   "metadata": {},
   "outputs": [],
   "source": []
  }
 ],
 "metadata": {
  "kernelspec": {
   "display_name": "Python 3 (ipykernel)",
   "language": "python",
   "name": "python3"
  },
  "language_info": {
   "codemirror_mode": {
    "name": "ipython",
    "version": 3
   },
   "file_extension": ".py",
   "mimetype": "text/x-python",
   "name": "python",
   "nbconvert_exporter": "python",
   "pygments_lexer": "ipython3",
   "version": "3.12.4"
  }
 },
 "nbformat": 4,
 "nbformat_minor": 5
}
